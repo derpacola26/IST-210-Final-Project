{
  "nbformat": 4,
  "nbformat_minor": 0,
  "metadata": {
    "colab": {
      "name": "Final Project IST 210.ipynb",
      "provenance": [],
      "collapsed_sections": []
    },
    "kernelspec": {
      "name": "python3",
      "display_name": "Python 3"
    }
  },
  "cells": [
    {
      "cell_type": "markdown",
      "metadata": {
        "id": "orzQoBRPcTAK",
        "colab_type": "text"
      },
      "source": [
        "**Music Software**"
      ]
    },
    {
      "cell_type": "markdown",
      "metadata": {
        "id": "mgI4JWGvcYqb",
        "colab_type": "text"
      },
      "source": [
        "\n",
        "Created By:\n",
        "*   Andrew Gustafson\n",
        "*   Alice Vaynblat\n",
        "*   Andrew Colaianni\n",
        "\n"
      ]
    },
    {
      "cell_type": "markdown",
      "metadata": {
        "id": "5i4tTX5Kce7b",
        "colab_type": "text"
      },
      "source": [
        "### Project Description"
      ]
    },
    {
      "cell_type": "markdown",
      "metadata": {
        "id": "j2SRXN8JciCC",
        "colab_type": "text"
      },
      "source": [
        "We have created a music database app in order to cater to the millions of people that stream music today. The vision behind this is similar to other services such as Spotify or Amazon music where users can create an account in our database and with a subscription can access a catalog of near infinite, and growing songs. From there, users can not only find music they want to listen to,but also listen to podcasts. Anything users listen to gives suggestion algorithms used by our streaming service data in order to find something else you might like to listen to, as to give the user great discovery tools. Everything a user has listened to can be seen in their total plays and past listened to songs, so you can go back to old favorites whenever you want to. As well, the top songs on our platform are listed up front for everyone to experience and to see how many people have already listened to the most popular songs. In order to create a database to manage the information about the user, music they listen to, podcasts and their service subscription, we used 5 database tables. These are:  userInformation, userTransaction, podcasts, songInformation and songPlays. "
      ]
    },
    {
      "cell_type": "code",
      "metadata": {
        "id": "mlDVhlXxhi-C",
        "colab_type": "code",
        "outputId": "72e35bd5-a6bf-4bfd-9d83-2a65c88900d6",
        "colab": {
          "base_uri": "https://localhost:8080/",
          "height": 336
        }
      },
      "source": [
        "from IPython.display import IFrame\n",
        "# https://www.youtube.com/embed/xxxxxxxxxxxx\n",
        "IFrame(\"https://youtube.com/embed/HwVL4aLwsk4\", 560, 315)"
      ],
      "execution_count": 0,
      "outputs": [
        {
          "output_type": "execute_result",
          "data": {
            "text/html": [
              "\n",
              "        <iframe\n",
              "            width=\"560\"\n",
              "            height=\"315\"\n",
              "            src=\"https://youtube.com/embed/HwVL4aLwsk4\"\n",
              "            frameborder=\"0\"\n",
              "            allowfullscreen\n",
              "        ></iframe>\n",
              "        "
            ],
            "text/plain": [
              "<IPython.lib.display.IFrame at 0x7f1740926ef0>"
            ]
          },
          "metadata": {
            "tags": []
          },
          "execution_count": 1
        }
      ]
    },
    {
      "cell_type": "markdown",
      "metadata": {
        "id": "t6-Y4Xx_crf6",
        "colab_type": "text"
      },
      "source": [
        "#### ER Diagram"
      ]
    },
    {
      "cell_type": "markdown",
      "metadata": {
        "id": "h-iYURbCc-Fl",
        "colab_type": "text"
      },
      "source": [
        "![alt text](https://raw.githubusercontent.com/alicev22/IST-210-workshop/master/example/IST%20210%20Second%20Draft%20ER%20Diagram.png)"
      ]
    },
    {
      "cell_type": "markdown",
      "metadata": {
        "id": "OzwSzMerctdL",
        "colab_type": "text"
      },
      "source": [
        "\n",
        "\n",
        "```\n",
        "# This is formatted as code\n",
        "```\n",
        "\n",
        "The first table is the Song Information. The information from this table will be used to help users move around the platform. There would be different genres to explore, pages for artists, and naturally the names of the songs. The second table is Podcasts. Podcasts would be listed in their own section. This would have the podcasts decription, the user who posted it, and different metrics on popularity and time listened. There would also be genres in podcasts, allowing users to explore podcasts similar to the ones they already listen to. The third table is Song Plays, which would keep track of how many times a song is played, the frequency within the plays, and the type of users who listen to the song. This would be used to create charts and playlists for diffrent users. The fourth table is User Information. This is a profile for users to store what artists and songs they like, create playlists, look at their data, and know if they have a premium (ad free) membership or not. The fifth table is User Transaction and it would keep track of when the user would have purchased a premium membership, the cost, how long they've had it, and when it must be renewed. "
      ]
    },
    {
      "cell_type": "markdown",
      "metadata": {
        "id": "dgonvxYUdc7M",
        "colab_type": "text"
      },
      "source": [
        "\n",
        "These databases were created trying to make sure we could keep track of the song and podcast information, how many times each was played, and what the user's information was along with their payment data. The insert statements kept track of the attributes of the table. In song information, for instance, there are entries for the primary key, then the title of the song, who it was written by, whether it was on a single or an album, and what genre the song would fall under. For plays there are entries for its key, how many times it was played that day, week, month, and total, along with the song's ID. For podcasts, there is space for the key, what the podcast is called, its genre, plays, and listeners, along with its runtime. Each user has a key that is recorded, what songs and podcasts they listen to, how many plays they have, what their account is named, when it was created, and if they're a free or premium member. Finally, we wanted to keep track of how the user pays for their account, along with giving them information about it. There is a key for each user's card, how many times they've paid, how much they have been charged, and whenever their next payment is due. "
      ]
    },
    {
      "cell_type": "markdown",
      "metadata": {
        "id": "QMmyiEGXd1aV",
        "colab_type": "text"
      },
      "source": [
        "Database and tables:"
      ]
    },
    {
      "cell_type": "code",
      "metadata": {
        "id": "O2ST2uJScdGM",
        "colab_type": "code",
        "colab": {}
      },
      "source": [
        "import sqlite3 # Once imported in a single notebook, it is available to us throughout the rest of the notebook. \n",
        "# connect to database, if not there, create it.\n",
        "connectionToDatabase = sqlite3.connect('SongPlatformData') \n",
        "cursor = connectionToDatabase.cursor()\n",
        "cursor.execute('''drop table IF EXISTS SongInformation''')\n",
        "connectionToDatabase.commit()\n",
        "\n",
        "cursor.execute('''create table SongInformation (songID text PRIMARY KEY, songTitle text, songArtist text, songAlbumSingle text, songGenre text)''')\n",
        "connectionToDatabase.commit()\n",
        "\n",
        "cursor.execute('''drop table IF EXISTS SongPlays''')\n",
        "connectionToDatabase.commit()\n",
        "\n",
        "cursor.execute('''create table SongPlays (playsID text PRIMARY KEY, songPlays int, dailyPlays int, weeklyPlays int, monthlyPlays int, songID text)''')\n",
        "connectionToDatabase.commit()\n",
        "\n",
        "cursor.execute('''drop table IF EXISTS Podcasts''')\n",
        "connectionToDatabase.commit()\n",
        "\n",
        "cursor.execute('''create table Podcasts (podcastID text PRIMARY KEY, episodeName text, podcastListeners int, podcastGenre text, totalPodcastPlays int, runTime real)''')\n",
        "connectionToDatabase.commit()\n",
        "\n",
        "cursor.execute('''drop table IF EXISTS UserInformation''')\n",
        "connectionToDatabase.commit()\n",
        "\n",
        "cursor.execute('''create table UserInformation (userID text PRIMARY KEY, songsID text, playsID text, podcastID text, accountName text, dateAccCreated text, memberStatus int)''')\n",
        "connectionToDatabase.commit()\n",
        "\n",
        "cursor.execute('''drop table IF EXISTS UserTransaction''')\n",
        "connectionToDatabase.commit()\n",
        "\n",
        "cursor.execute('''create table UserTransaction (cardID text PRIMARY KEY, numberOfPayments int, amountCharged real, nextPaymentDue text)''')\n",
        "connectionToDatabase.commit()"
      ],
      "execution_count": 0,
      "outputs": []
    },
    {
      "cell_type": "markdown",
      "metadata": {
        "id": "sGaBFUS2d5he",
        "colab_type": "text"
      },
      "source": [
        "Inserting data:\n"
      ]
    },
    {
      "cell_type": "code",
      "metadata": {
        "id": "GqKVuozKd-Sz",
        "colab_type": "code",
        "colab": {}
      },
      "source": [
        "cursor.execute('''insert into SongInformation values (\"126324747\",\"Fuzzy Socks\",\"Andy Rogan\",\"Single\",\"Funk\");''')\n",
        "connectionToDatabase.commit()\n",
        "cursor.execute('''insert into SongInformation values (\"238472733\",\"Beamer Boy\",\"Lil Peep\",\"Single\",\"Trap/Rap\");''')\n",
        "connectionToDatabase.commit()\n",
        "cursor.execute('''insert into SongInformation values (\"273447923\",\"CntrlAltDelete\",\"Bones\",\"Album\",\"Rap\");''')\n",
        "connectionToDatabase.commit()\n",
        "cursor.execute('''insert into SongInformation values (\"735628747\",\"Buckshots\",\"A$AP Rocky\",\"Album\",\"Rap\");''')\n",
        "connectionToDatabase.commit()\n",
        "cursor.execute('''insert into SongInformation values (\"888827472\",\"Bad\",\"Polyphia\",\"Album\",\"Prog Rock\");''')\n",
        "connectionToDatabase.commit()\n",
        "\n",
        "cursor.execute('''insert into SongPlays values (\"18433083\",3,9,20,50,\"126324747\");''')\n",
        "connectionToDatabase.commit()\n",
        "cursor.execute('''insert into SongPlays values (\"19347494\",4,12,22,100,\"238472733\");''')\n",
        "connectionToDatabase.commit()\n",
        "cursor.execute('''insert into SongPlays values (\"34857399\",2,5,15,\"87\",\"273447923\");''')\n",
        "connectionToDatabase.commit()\n",
        "cursor.execute('''insert into SongPlays values (\"11334455\",5,11,14,24,\"735628747\");''')\n",
        "connectionToDatabase.commit()\n",
        "cursor.execute('''insert into SongPlays values (\"75839273\",3,5,27,82,\"888827472\");''')\n",
        "connectionToDatabase.commit()\n",
        "\n",
        "cursor.execute('''insert into Podcasts values (\"1974829\",\"The World Ending Fart\",3268746,\"Comedy\",684294,\"56:23\");''')\n",
        "connectionToDatabase.commit()\n",
        "cursor.execute('''insert into Podcasts values (\"1238958\",\"War on TikTok\",245767,\"Politics\",45756,\"30:21\");''')\n",
        "connectionToDatabase.commit()\n",
        "cursor.execute('''insert into Podcasts values (\"2392845\",\"Rager at Club Decco\",3126,\"Comedy\",4123,\"21:46\");''')\n",
        "connectionToDatabase.commit()\n",
        "cursor.execute('''insert into Podcasts values (\"8573923\",\"Mythical Meter Maid\",657,\"Comedy\",879,\"45:21\");''')\n",
        "connectionToDatabase.commit()\n",
        "cursor.execute('''insert into Podcasts values (\"3957203\",\"Spiderman's Kryptonite\",345913,\"Comedy\",347,\"40:57\");''')\n",
        "connectionToDatabase.commit()\n",
        "\n",
        "cursor.execute('''insert into UserInformation values (\"573827\",\"2,847\",\"6,258\",\"7\",\"Adler Brown\",\"4/15/19\",\"1\");''')\n",
        "connectionToDatabase.commit()\n",
        "cursor.execute('''insert into UserInformation values (\"986983\",\"472\",\"1,482\",\"12\",\"Jared Bowman\",\"4/23/19\",\"0\");''')\n",
        "connectionToDatabase.commit()\n",
        "cursor.execute('''insert into UserInformation values (\"127349\",\"1,534\",\"2,583\",\"17\",\"Julie Dzielski\",\"6/17/19\",\"0\");''')\n",
        "connectionToDatabase.commit()\n",
        "cursor.execute('''insert into UserInformation values (\"876739\",\"7,219\",\"50,283\",\"30\",\"Ethan Stahley\",\"1/14/19\",\"1\");''')\n",
        "connectionToDatabase.commit()\n",
        "cursor.execute('''insert into UserInformation values (\"163826\",\"297\",\"3,643\",\"2\",\"Carolyn Kenney\",\"7/5/19\",\"1\");''')\n",
        "connectionToDatabase.commit()\n",
        "\n",
        "cursor.execute('''insert into UserTransaction values (\"572921\",7,70,\"12/15/19\");''')\n",
        "connectionToDatabase.commit()\n",
        "cursor.execute('''insert into UserTransaction values (\"000000\",0,0,\"null\");''')\n",
        "connectionToDatabase.commit()\n",
        "cursor.execute('''insert into UserTransaction values (\"000001\",0,0,\"null\");''')\n",
        "connectionToDatabase.commit()\n",
        "cursor.execute('''insert into UserTransaction values (\"485938\",10,100,\"12/14/19\");''')\n",
        "connectionToDatabase.commit()\n",
        "cursor.execute('''insert into UserTransaction values (\"493729\",4,40,\"12/5/19\");''')\n",
        "connectionToDatabase.commit()"
      ],
      "execution_count": 0,
      "outputs": []
    },
    {
      "cell_type": "markdown",
      "metadata": {
        "id": "iMV4yhgJeaPT",
        "colab_type": "text"
      },
      "source": [
        "Checking the tables:"
      ]
    },
    {
      "cell_type": "code",
      "metadata": {
        "id": "MQ6cOHrjeeE7",
        "colab_type": "code",
        "colab": {}
      },
      "source": [
        "cursor.execute('''select * from SongInformation''')\n",
        "for row in cursor.fetchall():\n",
        "  print (row)"
      ],
      "execution_count": 0,
      "outputs": []
    },
    {
      "cell_type": "code",
      "metadata": {
        "id": "C1xWUZmAee1k",
        "colab_type": "code",
        "colab": {}
      },
      "source": [
        "cursor.execute('''select * from SongPlays''')\n",
        "for row in cursor.fetchall():\n",
        "  print (row)"
      ],
      "execution_count": 0,
      "outputs": []
    },
    {
      "cell_type": "code",
      "metadata": {
        "id": "pqgqzMKqa1oy",
        "colab_type": "code",
        "colab": {}
      },
      "source": [
        "cursor.execute('''select * from Podcasts''')\n",
        "for row in cursor.fetchall():\n",
        "  print (row)"
      ],
      "execution_count": 0,
      "outputs": []
    },
    {
      "cell_type": "code",
      "metadata": {
        "id": "qJhfCCWGa6qy",
        "colab_type": "code",
        "colab": {}
      },
      "source": [
        "cursor.execute('''select * from UserInformation''')\n",
        "for row in cursor.fetchall():\n",
        "  print (row)"
      ],
      "execution_count": 0,
      "outputs": []
    },
    {
      "cell_type": "code",
      "metadata": {
        "id": "BY7AlkYva_KP",
        "colab_type": "code",
        "colab": {}
      },
      "source": [
        "cursor.execute('''select * from UserTransaction''')\n",
        "for row in cursor.fetchall():\n",
        "  print (row)"
      ],
      "execution_count": 0,
      "outputs": []
    },
    {
      "cell_type": "markdown",
      "metadata": {
        "id": "LCOp1PgfeJ1t",
        "colab_type": "text"
      },
      "source": [
        "#### SQL Select Statements + Scenario:\n",
        "\n",
        "\n",
        "\n"
      ]
    },
    {
      "cell_type": "markdown",
      "metadata": {
        "id": "g4tnMV_OeH3b",
        "colab_type": "text"
      },
      "source": [
        "Scenario: There is a way for a user to see their stats on how much music and podcasts, along with data about each of them. These statements help pull information for the user and will present it for them. "
      ]
    },
    {
      "cell_type": "markdown",
      "metadata": {
        "id": "HgL_Ffv0eSw1",
        "colab_type": "text"
      },
      "source": [
        "SQL Statement 1: This allows a user to see how many people listen to different podcast genres. This help them choose what type of genre to explore for a new podcast to listen to. "
      ]
    },
    {
      "cell_type": "code",
      "metadata": {
        "id": "1mwBniOveQ9V",
        "colab_type": "code",
        "colab": {}
      },
      "source": [
        "cursor.execute('''select podcastGenre, sum(podcastListeners) from Podcasts group by podcastGenre;''' )\n",
        "for row in cursor.fetchall():\n",
        "  print(row)"
      ],
      "execution_count": 0,
      "outputs": []
    },
    {
      "cell_type": "markdown",
      "metadata": {
        "id": "p_0ytoj8eo9U",
        "colab_type": "text"
      },
      "source": [
        "SQl Statment 2: This allows a user to see how many times they've listened to a song. In this case, as user probably would just be checking on their weekly stats or would have just started listening to any of these songs. "
      ]
    },
    {
      "cell_type": "code",
      "metadata": {
        "id": "Jt6OsqZFeq0i",
        "colab_type": "code",
        "colab": {}
      },
      "source": [
        "cursor.execute('''select i.songTitle, p.songPlays from SongPlays p, SongInformation i where p.songID = i.songID order by songPlays DESC limit 5;''' )\n",
        "for row in cursor.fetchall():\n",
        "  print(row)"
      ],
      "execution_count": 0,
      "outputs": []
    },
    {
      "cell_type": "markdown",
      "metadata": {
        "id": "Z3HTV5aXep4T",
        "colab_type": "text"
      },
      "source": [
        "SQL Statement 3: This would allow a user to see the average runtime of a podcast in a certain genre. If the user used the first statement to look at popular podcasts, they may have found the podcast genre interesting. If they wanted to see how long a podcast was due to a commute, they would be able to see how long the average runtime of comedy podacsts are. "
      ]
    },
    {
      "cell_type": "code",
      "metadata": {
        "id": "f3haLhB4evCa",
        "colab_type": "code",
        "colab": {}
      },
      "source": [
        "cursor.execute('''select podcastGenre, avg(runtime) from Podcasts where podcastGenre = \"Comedy\";''' )\n",
        "for row in cursor.fetchall():\n",
        "  print(row)"
      ],
      "execution_count": 0,
      "outputs": []
    }
  ]
}